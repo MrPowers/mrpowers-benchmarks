{
 "cells": [
  {
   "cell_type": "code",
   "execution_count": 1,
   "id": "377467fb-343a-4cca-bebb-e19bb474e7cd",
   "metadata": {},
   "outputs": [],
   "source": [
    "import polars as pl"
   ]
  },
  {
   "cell_type": "code",
   "execution_count": 6,
   "id": "06372a2e-e455-4339-860b-d10bde4360a5",
   "metadata": {},
   "outputs": [],
   "source": [
    "df = pl.read_csv(\"../data/mrpowers-h2o/groupby-1e7/single-csv/mrpowers-groupby-1e7.csv\")"
   ]
  },
  {
   "cell_type": "markdown",
   "id": "1ffff7a1-9368-4e88-bdc3-f14b2696f001",
   "metadata": {},
   "source": [
    "## q1: number of rows with id4 == 48"
   ]
  },
  {
   "cell_type": "code",
   "execution_count": 9,
   "id": "3682d107-896a-4e9d-ad61-c0ca5e09f8a6",
   "metadata": {},
   "outputs": [
    {
     "data": {
      "text/plain": [
       "100685"
      ]
     },
     "execution_count": 9,
     "metadata": {},
     "output_type": "execute_result"
    }
   ],
   "source": [
    "len(df.filter(pl.col(\"id4\") == 48))"
   ]
  },
  {
   "cell_type": "markdown",
   "id": "6165e4e3-ee01-4343-a278-e95c0a860e42",
   "metadata": {},
   "source": [
    "## q2: number of rows with id4 < 30"
   ]
  },
  {
   "cell_type": "code",
   "execution_count": 10,
   "id": "c012da65-3b0a-48da-a5f6-40c50d946f11",
   "metadata": {},
   "outputs": [
    {
     "data": {
      "text/plain": [
       "2898584"
      ]
     },
     "execution_count": 10,
     "metadata": {},
     "output_type": "execute_result"
    }
   ],
   "source": [
    "len(df.filter(pl.col(\"id4\") < 30))"
   ]
  },
  {
   "cell_type": "markdown",
   "id": "3d19d9dd-508c-4aa0-8895-4d2337177aa4",
   "metadata": {},
   "source": [
    "## q3: number of rows with v3 > 71.1"
   ]
  },
  {
   "cell_type": "code",
   "execution_count": 11,
   "id": "ecab377b-0883-4bed-8cbf-5b656adb94eb",
   "metadata": {},
   "outputs": [
    {
     "data": {
      "text/plain": [
       "7081790"
      ]
     },
     "execution_count": 11,
     "metadata": {},
     "output_type": "execute_result"
    }
   ],
   "source": [
    "len(df.filter(pl.col(\"v3\") < 71.1))"
   ]
  },
  {
   "cell_type": "markdown",
   "id": "edd0c8ce-77ee-42e9-a86b-7c6173a4db66",
   "metadata": {},
   "source": [
    "## q4: number of rows with id5 == 48 && v3 < 25.2"
   ]
  },
  {
   "cell_type": "code",
   "execution_count": 12,
   "id": "22555f43-38f0-4f1d-80d1-cb3e80f24a40",
   "metadata": {},
   "outputs": [
    {
     "data": {
      "text/plain": [
       "1149560"
      ]
     },
     "execution_count": 12,
     "metadata": {},
     "output_type": "execute_result"
    }
   ],
   "source": [
    "len(df.filter((pl.col(\"id5\") < 48) & (pl.col(\"v3\") < 25.2)))"
   ]
  },
  {
   "cell_type": "markdown",
   "id": "3d4aca1d-a24e-48b5-8523-bdf16c3145e2",
   "metadata": {},
   "source": [
    "## q5: number of rows with id2 == id001 && id5 == 60"
   ]
  },
  {
   "cell_type": "code",
   "execution_count": 13,
   "id": "d91add6f-30b4-42af-9cfd-dfbbd2505a2d",
   "metadata": {},
   "outputs": [
    {
     "data": {
      "text/plain": [
       "1012"
      ]
     },
     "execution_count": 13,
     "metadata": {},
     "output_type": "execute_result"
    }
   ],
   "source": [
    "len(df.filter((pl.col(\"id2\") == \"id001\") & (pl.col(\"id5\") == 48)))"
   ]
  },
  {
   "cell_type": "code",
   "execution_count": null,
   "id": "fc66a75c-a727-441f-b0da-4ed991d11570",
   "metadata": {},
   "outputs": [],
   "source": []
  }
 ],
 "metadata": {
  "kernelspec": {
   "display_name": "Python [conda env:mr-polars]",
   "language": "python",
   "name": "conda-env-mr-polars-py"
  },
  "language_info": {
   "codemirror_mode": {
    "name": "ipython",
    "version": 3
   },
   "file_extension": ".py",
   "mimetype": "text/x-python",
   "name": "python",
   "nbconvert_exporter": "python",
   "pygments_lexer": "ipython3",
   "version": "3.9.9"
  }
 },
 "nbformat": 4,
 "nbformat_minor": 5
}
