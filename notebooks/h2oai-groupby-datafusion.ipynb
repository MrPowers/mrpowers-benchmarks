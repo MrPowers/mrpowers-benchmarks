{
 "cells": [
  {
   "cell_type": "code",
   "execution_count": 6,
   "id": "a218c2cf-4ef4-4582-bab1-298ad5c78b7f",
   "metadata": {},
   "outputs": [],
   "source": [
    "import datafusion"
   ]
  },
  {
   "cell_type": "code",
   "execution_count": 8,
   "id": "7cec6203-4cba-47a5-8059-ed827cfb6b39",
   "metadata": {},
   "outputs": [],
   "source": [
    "ctx = datafusion.SessionContext()"
   ]
  },
  {
   "cell_type": "code",
   "execution_count": 11,
   "id": "0972b2a1-a0f2-497c-9f1a-bd075440cd3e",
   "metadata": {},
   "outputs": [],
   "source": [
    "ctx.register_csv(\"small\", \"../tmp/N_1e7_K_1e2_single.csv\")"
   ]
  },
  {
   "cell_type": "code",
   "execution_count": 20,
   "id": "9c09ab83-950f-4792-9ee5-d84f8a0a8ace",
   "metadata": {},
   "outputs": [
    {
     "ename": "Exception",
     "evalue": "DataFusion error: Execution(\"The table medium already exists\")",
     "output_type": "error",
     "traceback": [
      "\u001b[0;31m---------------------------------------------------------------------------\u001b[0m",
      "\u001b[0;31mException\u001b[0m                                 Traceback (most recent call last)",
      "Input \u001b[0;32mIn [20]\u001b[0m, in \u001b[0;36m<cell line: 1>\u001b[0;34m()\u001b[0m\n\u001b[0;32m----> 1\u001b[0m \u001b[43mctx\u001b[49m\u001b[38;5;241;43m.\u001b[39;49m\u001b[43mregister_csv\u001b[49m\u001b[43m(\u001b[49m\u001b[38;5;124;43m\"\u001b[39;49m\u001b[38;5;124;43mmedium\u001b[39;49m\u001b[38;5;124;43m\"\u001b[39;49m\u001b[43m,\u001b[49m\u001b[43m \u001b[49m\u001b[38;5;124;43m\"\u001b[39;49m\u001b[38;5;124;43m../tmp/N_1e8_K_1e2_single.csv\u001b[39;49m\u001b[38;5;124;43m\"\u001b[39;49m\u001b[43m)\u001b[49m\n",
      "\u001b[0;31mException\u001b[0m: DataFusion error: Execution(\"The table medium already exists\")"
     ]
    }
   ],
   "source": [
    "ctx.register_csv(\"medium\", \"../tmp/N_1e8_K_1e2_single.csv\")"
   ]
  },
  {
   "cell_type": "code",
   "execution_count": 22,
   "id": "31b22f93-f37a-426a-bc84-64305d16bdf7",
   "metadata": {},
   "outputs": [],
   "source": [
    "ctx.register_csv(\"large\", \"../tmp/N_1e9_K_1e2_single.csv\")"
   ]
  },
  {
   "cell_type": "code",
   "execution_count": 18,
   "id": "78411859-c661-4585-b64f-257c43f9a33d",
   "metadata": {},
   "outputs": [
    {
     "name": "stdout",
     "output_type": "stream",
     "text": [
      "CPU times: user 4.31 ms, sys: 6.4 ms, total: 10.7 ms\n",
      "Wall time: 6.43 ms\n"
     ]
    },
    {
     "data": {
      "text/plain": [
       "[pyarrow.RecordBatch\n",
       " v1: int64]"
      ]
     },
     "execution_count": 18,
     "metadata": {},
     "output_type": "execute_result"
    }
   ],
   "source": [
    "%%time\n",
    "ctx.sql(\"SELECT v1 FROM something LIMIT 5\").collect()"
   ]
  },
  {
   "cell_type": "markdown",
   "id": "f8602765-dec6-4cd2-9570-97b2d3e6ddac",
   "metadata": {},
   "source": [
    "## h2o groupby query #1"
   ]
  },
  {
   "cell_type": "code",
   "execution_count": 21,
   "id": "994b6a9f-223c-4e07-b150-e3cd7c723ea4",
   "metadata": {
    "tags": []
   },
   "outputs": [
    {
     "name": "stdout",
     "output_type": "stream",
     "text": [
      "CPU times: user 19.1 s, sys: 930 ms, total: 20 s\n",
      "Wall time: 11.6 s\n"
     ]
    },
    {
     "data": {
      "text/plain": [
       "[pyarrow.RecordBatch\n",
       " id1: string\n",
       " v1: int64,\n",
       " pyarrow.RecordBatch\n",
       " id1: string\n",
       " v1: int64,\n",
       " pyarrow.RecordBatch\n",
       " id1: string\n",
       " v1: int64,\n",
       " pyarrow.RecordBatch\n",
       " id1: string\n",
       " v1: int64,\n",
       " pyarrow.RecordBatch\n",
       " id1: string\n",
       " v1: int64,\n",
       " pyarrow.RecordBatch\n",
       " id1: string\n",
       " v1: int64,\n",
       " pyarrow.RecordBatch\n",
       " id1: string\n",
       " v1: int64,\n",
       " pyarrow.RecordBatch\n",
       " id1: string\n",
       " v1: int64]"
      ]
     },
     "execution_count": 21,
     "metadata": {},
     "output_type": "execute_result"
    }
   ],
   "source": [
    "%%time\n",
    "ctx.sql(\"select id1, sum(v1) as v1 from medium group by id1\").collect()"
   ]
  },
  {
   "cell_type": "code",
   "execution_count": 23,
   "id": "17c4bb1a-709b-49fe-bbf4-683c14d2a4b8",
   "metadata": {},
   "outputs": [
    {
     "name": "stdout",
     "output_type": "stream",
     "text": [
      "CPU times: user 3min 10s, sys: 9.01 s, total: 3min 19s\n",
      "Wall time: 1min 52s\n"
     ]
    },
    {
     "data": {
      "text/plain": [
       "[pyarrow.RecordBatch\n",
       " id1: string\n",
       " v1: int64,\n",
       " pyarrow.RecordBatch\n",
       " id1: string\n",
       " v1: int64,\n",
       " pyarrow.RecordBatch\n",
       " id1: string\n",
       " v1: int64,\n",
       " pyarrow.RecordBatch\n",
       " id1: string\n",
       " v1: int64,\n",
       " pyarrow.RecordBatch\n",
       " id1: string\n",
       " v1: int64,\n",
       " pyarrow.RecordBatch\n",
       " id1: string\n",
       " v1: int64,\n",
       " pyarrow.RecordBatch\n",
       " id1: string\n",
       " v1: int64,\n",
       " pyarrow.RecordBatch\n",
       " id1: string\n",
       " v1: int64]"
      ]
     },
     "execution_count": 23,
     "metadata": {},
     "output_type": "execute_result"
    }
   ],
   "source": [
    "%%time\n",
    "ctx.sql(\"select id1, sum(v1) as v1 from large group by id1\").collect()"
   ]
  },
  {
   "cell_type": "markdown",
   "id": "3a9da095-23c2-4960-97b0-a10777d6bc10",
   "metadata": {},
   "source": [
    "## h2o groupby query #7"
   ]
  },
  {
   "cell_type": "code",
   "execution_count": 25,
   "id": "4f40e5d5-22cf-41f7-8582-305c70430aae",
   "metadata": {},
   "outputs": [
    {
     "name": "stdout",
     "output_type": "stream",
     "text": [
      "CPU times: user 2min 35s, sys: 4.37 s, total: 2min 39s\n",
      "Wall time: 21.9 s\n"
     ]
    },
    {
     "data": {
      "text/plain": [
       "[pyarrow.RecordBatch\n",
       " id3: string\n",
       " range_v1_v2: int64,\n",
       " pyarrow.RecordBatch\n",
       " id3: string\n",
       " range_v1_v2: int64,\n",
       " pyarrow.RecordBatch\n",
       " id3: string\n",
       " range_v1_v2: int64,\n",
       " pyarrow.RecordBatch\n",
       " id3: string\n",
       " range_v1_v2: int64,\n",
       " pyarrow.RecordBatch\n",
       " id3: string\n",
       " range_v1_v2: int64,\n",
       " pyarrow.RecordBatch\n",
       " id3: string\n",
       " range_v1_v2: int64,\n",
       " pyarrow.RecordBatch\n",
       " id3: string\n",
       " range_v1_v2: int64,\n",
       " pyarrow.RecordBatch\n",
       " id3: string\n",
       " range_v1_v2: int64]"
      ]
     },
     "execution_count": 25,
     "metadata": {},
     "output_type": "execute_result"
    }
   ],
   "source": [
    "%%time\n",
    "ctx.sql(\"select id3, max(v1)-min(v2) as range_v1_v2 from medium group by id3\").collect()"
   ]
  },
  {
   "cell_type": "code",
   "execution_count": null,
   "id": "aad2b1bb-5b5a-4e15-9a75-97a44fdf7e07",
   "metadata": {},
   "outputs": [],
   "source": [
    "%%time\n",
    "ctx.sql(\"select id3, max(v1)-min(v2) as range_v1_v2 from large group by id3\").collect()"
   ]
  },
  {
   "cell_type": "code",
   "execution_count": null,
   "id": "e9a1c654-50c0-422b-99a7-ff29d4464e58",
   "metadata": {},
   "outputs": [],
   "source": []
  }
 ],
 "metadata": {
  "kernelspec": {
   "display_name": "Python [conda env:mr-datafusion]",
   "language": "python",
   "name": "conda-env-mr-datafusion-py"
  },
  "language_info": {
   "codemirror_mode": {
    "name": "ipython",
    "version": 3
   },
   "file_extension": ".py",
   "mimetype": "text/x-python",
   "name": "python",
   "nbconvert_exporter": "python",
   "pygments_lexer": "ipython3",
   "version": "3.9.13"
  }
 },
 "nbformat": 4,
 "nbformat_minor": 5
}
