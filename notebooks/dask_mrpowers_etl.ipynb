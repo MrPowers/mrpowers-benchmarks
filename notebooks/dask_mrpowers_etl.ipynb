{
 "cells": [
  {
   "cell_type": "code",
   "execution_count": null,
   "id": "076008d4-54f9-4ac5-a2ac-8d6353b3b4de",
   "metadata": {},
   "outputs": [],
   "source": []
  },
  {
   "cell_type": "markdown",
   "id": "28802523-d954-429f-932d-1548c027756d",
   "metadata": {},
   "source": [
    "## q1: read CSVs, groupby, write Parquet"
   ]
  },
  {
   "cell_type": "code",
   "execution_count": null,
   "id": "68a21e3c-955f-4618-aa8f-59ac59daece5",
   "metadata": {},
   "outputs": [],
   "source": []
  },
  {
   "cell_type": "markdown",
   "id": "dff220ab-e687-4edd-aba0-9b90289329f9",
   "metadata": {},
   "source": [
    "## q2: read Parquet, groupby, write CSV"
   ]
  },
  {
   "cell_type": "code",
   "execution_count": null,
   "id": "dc1d92e3-bdcf-41c0-bc3d-75a95281f279",
   "metadata": {},
   "outputs": [],
   "source": []
  },
  {
   "cell_type": "markdown",
   "id": "a1ed1ba3-b3a5-45f0-9f4b-750000ffe304",
   "metadata": {},
   "source": [
    "## q3: read CSVs, repartition, write parquet"
   ]
  },
  {
   "cell_type": "code",
   "execution_count": null,
   "id": "bfbbdee8-bb14-4342-a757-13c3f491d935",
   "metadata": {},
   "outputs": [],
   "source": []
  }
 ],
 "metadata": {
  "kernelspec": {
   "display_name": "Python [conda env:mr-dask] *",
   "language": "python",
   "name": "conda-env-mr-dask-py"
  },
  "language_info": {
   "codemirror_mode": {
    "name": "ipython",
    "version": 3
   },
   "file_extension": ".py",
   "mimetype": "text/x-python",
   "name": "python",
   "nbconvert_exporter": "python",
   "pygments_lexer": "ipython3",
   "version": "3.9.9"
  }
 },
 "nbformat": 4,
 "nbformat_minor": 5
}
