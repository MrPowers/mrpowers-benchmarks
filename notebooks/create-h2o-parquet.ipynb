{
 "cells": [
  {
   "cell_type": "code",
   "execution_count": 3,
   "id": "2163bacc-2f22-4b11-bd72-73eb7561e519",
   "metadata": {},
   "outputs": [],
   "source": [
    "import dask.dataframe as dd"
   ]
  },
  {
   "cell_type": "code",
   "execution_count": 6,
   "id": "30c6aa7e-c4c3-4da1-915e-cd72b0e421b1",
   "metadata": {},
   "outputs": [],
   "source": [
    "group_by_1e7 = \"../data/h2o/G1_1e7_1e2_0_0/csv/G1_1e7_1e2_0_0.csv\""
   ]
  },
  {
   "cell_type": "code",
   "execution_count": 7,
   "id": "5066fd99-a113-45f2-b5f5-b278dc3579e7",
   "metadata": {},
   "outputs": [],
   "source": [
    "ddf = dd.read_csv(\n",
    "    group_by_1e7,\n",
    "    dtype={\n",
    "        \"id1\": \"category\",\n",
    "        \"id2\": \"category\",\n",
    "        \"id3\": \"category\",\n",
    "        \"id4\": \"Int32\",\n",
    "        \"id5\": \"Int32\",\n",
    "        \"id6\": \"Int32\",\n",
    "        \"v1\": \"Int32\",\n",
    "        \"v2\": \"Int32\",\n",
    "        \"v3\": \"float64\",\n",
    "    },\n",
    ")"
   ]
  },
  {
   "cell_type": "code",
   "execution_count": 8,
   "id": "aff21b54-b477-4cbb-b2f2-72d23b599d31",
   "metadata": {},
   "outputs": [
    {
     "data": {
      "text/plain": [
       "(None,)"
      ]
     },
     "execution_count": 8,
     "metadata": {},
     "output_type": "execute_result"
    }
   ],
   "source": [
    "ddf.repartition(8).to_parquet(\"../data/h2o/G1_1e7_1e2_0_0/parquet\", engine=\"pyarrow\")"
   ]
  },
  {
   "cell_type": "code",
   "execution_count": null,
   "id": "97d21342-3625-4f66-ac86-b2256208524f",
   "metadata": {},
   "outputs": [],
   "source": []
  }
 ],
 "metadata": {
  "kernelspec": {
   "display_name": "Python [conda env:mr-dask] *",
   "language": "python",
   "name": "conda-env-mr-dask-py"
  },
  "language_info": {
   "codemirror_mode": {
    "name": "ipython",
    "version": 3
   },
   "file_extension": ".py",
   "mimetype": "text/x-python",
   "name": "python",
   "nbconvert_exporter": "python",
   "pygments_lexer": "ipython3",
   "version": "3.9.9"
  }
 },
 "nbformat": 4,
 "nbformat_minor": 5
}
