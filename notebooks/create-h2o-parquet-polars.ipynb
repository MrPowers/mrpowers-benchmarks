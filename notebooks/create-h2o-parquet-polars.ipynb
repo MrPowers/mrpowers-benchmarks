{
 "cells": [
  {
   "cell_type": "code",
   "execution_count": 1,
   "id": "c876c7f9-0b10-4825-8b97-705b982bb3b9",
   "metadata": {},
   "outputs": [],
   "source": [
    "import polars as pl"
   ]
  },
  {
   "cell_type": "code",
   "execution_count": 2,
   "id": "3da28e0e-debd-4883-8a8c-8c4fb35e7279",
   "metadata": {},
   "outputs": [],
   "source": [
    "group_by_1e7_csv = \"../data/h2o/G1_1e7_1e2_0_0/csv/G1_1e7_1e2_0_0.csv\""
   ]
  },
  {
   "cell_type": "code",
   "execution_count": 3,
   "id": "470dc174-2e8d-4dca-9241-48a2bf939d70",
   "metadata": {},
   "outputs": [],
   "source": [
    "with pl.StringCache():\n",
    "    df_csv = pl.read_csv(\n",
    "        group_by_1e7_csv,\n",
    "        dtype={\n",
    "            \"id1\": pl.Utf8,\n",
    "            \"id2\": pl.Utf8,\n",
    "            \"id3\": pl.Utf8,\n",
    "            \"id4\": pl.Int32,\n",
    "            \"id5\": pl.Int32,\n",
    "            \"id6\": pl.Int32,\n",
    "            \"v1\": pl.Int32,\n",
    "            \"v2\": pl.Int32,\n",
    "            \"v3\": pl.Float64,\n",
    "        },\n",
    "        low_memory=True,\n",
    "    ).with_columns(\n",
    "        \n",
    "            pl.col(\"id1\").cast(pl.Categorical),\n",
    "            pl.col(\"id2\").cast(pl.Categorical),\n",
    "            pl.col(\"id3\").cast(pl.Categorical),\n",
    "        ]\n",
    "    )"
   ]
  },
  {
   "cell_type": "code",
   "execution_count": 5,
   "id": "3f2beb46-371d-4217-a86c-51b566b7bf69",
   "metadata": {},
   "outputs": [],
   "source": [
    "df_csv.to_parquet(\"../data/h2o/G1_1e7_1e2_0_0/polars-file.parquet\")"
   ]
  },
  {
   "cell_type": "code",
   "execution_count": null,
   "id": "d10782db-c0f9-47a0-9346-53326b94331d",
   "metadata": {},
   "outputs": [],
   "source": []
  }
 ],
 "metadata": {
  "kernelspec": {
   "display_name": "Python [conda env:mr-polars] *",
   "language": "python",
   "name": "conda-env-mr-polars-py"
  },
  "language_info": {
   "codemirror_mode": {
    "name": "ipython",
    "version": 3
   },
   "file_extension": ".py",
   "mimetype": "text/x-python",
   "name": "python",
   "nbconvert_exporter": "python",
   "pygments_lexer": "ipython3",
   "version": "3.9.9"
  }
 },
 "nbformat": 4,
 "nbformat_minor": 5
}
