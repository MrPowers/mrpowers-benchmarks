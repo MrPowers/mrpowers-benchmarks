{
 "cells": [
  {
   "cell_type": "code",
   "execution_count": 1,
   "id": "dec733f2-1081-4366-8972-c905de0cf848",
   "metadata": {},
   "outputs": [],
   "source": [
    "import dask.dataframe as dd"
   ]
  },
  {
   "cell_type": "code",
   "execution_count": 2,
   "id": "3bc8d0ae-165f-45c2-93a3-077265c1cc35",
   "metadata": {},
   "outputs": [],
   "source": [
    "ddf = dd.read_parquet(\"../data/mrpowers-h2o/groupby-1e7/parquet\")"
   ]
  },
  {
   "cell_type": "code",
   "execution_count": 3,
   "id": "7c5ca46c-f5c3-494e-a398-d435148cc81d",
   "metadata": {},
   "outputs": [
    {
     "data": {
      "text/plain": [
       "10000000"
      ]
     },
     "execution_count": 3,
     "metadata": {},
     "output_type": "execute_result"
    }
   ],
   "source": [
    "len(ddf)"
   ]
  },
  {
   "cell_type": "code",
   "execution_count": 4,
   "id": "e7a2fb83-76c0-4ff0-8728-0fd9f06291a8",
   "metadata": {},
   "outputs": [
    {
     "data": {
      "text/html": [
       "<div>\n",
       "<style scoped>\n",
       "    .dataframe tbody tr th:only-of-type {\n",
       "        vertical-align: middle;\n",
       "    }\n",
       "\n",
       "    .dataframe tbody tr th {\n",
       "        vertical-align: top;\n",
       "    }\n",
       "\n",
       "    .dataframe thead th {\n",
       "        text-align: right;\n",
       "    }\n",
       "</style>\n",
       "<table border=\"1\" class=\"dataframe\">\n",
       "  <thead>\n",
       "    <tr style=\"text-align: right;\">\n",
       "      <th></th>\n",
       "      <th>id1</th>\n",
       "      <th>id2</th>\n",
       "      <th>id3</th>\n",
       "      <th>id4</th>\n",
       "      <th>id5</th>\n",
       "      <th>id6</th>\n",
       "      <th>v1</th>\n",
       "      <th>v2</th>\n",
       "      <th>v3</th>\n",
       "    </tr>\n",
       "  </thead>\n",
       "  <tbody>\n",
       "    <tr>\n",
       "      <th>0</th>\n",
       "      <td>id001</td>\n",
       "      <td>id001</td>\n",
       "      <td>id0000010277</td>\n",
       "      <td>34</td>\n",
       "      <td>48</td>\n",
       "      <td>4336</td>\n",
       "      <td>4</td>\n",
       "      <td>8</td>\n",
       "      <td>51.935818</td>\n",
       "    </tr>\n",
       "    <tr>\n",
       "      <th>1</th>\n",
       "      <td>id001</td>\n",
       "      <td>id001</td>\n",
       "      <td>id0000010179</td>\n",
       "      <td>68</td>\n",
       "      <td>88</td>\n",
       "      <td>6075</td>\n",
       "      <td>1</td>\n",
       "      <td>4</td>\n",
       "      <td>61.951861</td>\n",
       "    </tr>\n",
       "    <tr>\n",
       "      <th>2</th>\n",
       "      <td>id001</td>\n",
       "      <td>id001</td>\n",
       "      <td>id0000077289</td>\n",
       "      <td>14</td>\n",
       "      <td>22</td>\n",
       "      <td>4124</td>\n",
       "      <td>1</td>\n",
       "      <td>3</td>\n",
       "      <td>57.146678</td>\n",
       "    </tr>\n",
       "    <tr>\n",
       "      <th>3</th>\n",
       "      <td>id001</td>\n",
       "      <td>id001</td>\n",
       "      <td>id0000018937</td>\n",
       "      <td>63</td>\n",
       "      <td>60</td>\n",
       "      <td>1475</td>\n",
       "      <td>4</td>\n",
       "      <td>7</td>\n",
       "      <td>26.972782</td>\n",
       "    </tr>\n",
       "    <tr>\n",
       "      <th>4</th>\n",
       "      <td>id001</td>\n",
       "      <td>id001</td>\n",
       "      <td>id0000015670</td>\n",
       "      <td>26</td>\n",
       "      <td>95</td>\n",
       "      <td>4599</td>\n",
       "      <td>3</td>\n",
       "      <td>3</td>\n",
       "      <td>11.137509</td>\n",
       "    </tr>\n",
       "  </tbody>\n",
       "</table>\n",
       "</div>"
      ],
      "text/plain": [
       "     id1    id2           id3  id4  id5   id6  v1  v2         v3\n",
       "0  id001  id001  id0000010277   34   48  4336   4   8  51.935818\n",
       "1  id001  id001  id0000010179   68   88  6075   1   4  61.951861\n",
       "2  id001  id001  id0000077289   14   22  4124   1   3  57.146678\n",
       "3  id001  id001  id0000018937   63   60  1475   4   7  26.972782\n",
       "4  id001  id001  id0000015670   26   95  4599   3   3  11.137509"
      ]
     },
     "execution_count": 4,
     "metadata": {},
     "output_type": "execute_result"
    }
   ],
   "source": [
    "ddf.head()"
   ]
  },
  {
   "cell_type": "code",
   "execution_count": 11,
   "id": "df8d22f0-872b-4edd-ba18-5f4c4ac5a78a",
   "metadata": {},
   "outputs": [
    {
     "data": {
      "text/plain": [
       "id1     object\n",
       "id2     object\n",
       "id3     object\n",
       "id4      int64\n",
       "id5      int64\n",
       "id6      int64\n",
       "v1       int64\n",
       "v2       int64\n",
       "v3     float64\n",
       "dtype: object"
      ]
     },
     "execution_count": 11,
     "metadata": {},
     "output_type": "execute_result"
    }
   ],
   "source": [
    "ddf.dtypes"
   ]
  },
  {
   "cell_type": "markdown",
   "id": "054faca0-e835-4fa0-a1d0-9d8a5f1d3c98",
   "metadata": {},
   "source": [
    "## q1: filter, then aggregate"
   ]
  },
  {
   "cell_type": "code",
   "execution_count": 15,
   "id": "2c6b6ff5-89f7-4e45-96b2-33f5dacde1fe",
   "metadata": {},
   "outputs": [
    {
     "data": {
      "text/plain": [
       "id1\n",
       "id001    51502\n",
       "id002    51241\n",
       "id003    50957\n",
       "id004    48997\n",
       "id005    51127\n",
       "         ...  \n",
       "id096    50344\n",
       "id097    50422\n",
       "id098    50498\n",
       "id099    51170\n",
       "id100    50065\n",
       "Name: id4, Length: 100, dtype: int64"
      ]
     },
     "execution_count": 15,
     "metadata": {},
     "output_type": "execute_result"
    }
   ],
   "source": [
    "ddf.loc[ddf[\"id2\"] == \"id089\"].groupby(\"id1\").id4.sum().compute()"
   ]
  },
  {
   "cell_type": "markdown",
   "id": "13b0729c-9c9e-48b3-954a-c71170af1f60",
   "metadata": {},
   "source": [
    "## q2: aggregate, then filter"
   ]
  },
  {
   "cell_type": "code",
   "execution_count": 21,
   "id": "ca8ff286-86c0-406a-b1d6-f836b7c56571",
   "metadata": {},
   "outputs": [
    {
     "data": {
      "text/html": [
       "<div>\n",
       "<style scoped>\n",
       "    .dataframe tbody tr th:only-of-type {\n",
       "        vertical-align: middle;\n",
       "    }\n",
       "\n",
       "    .dataframe tbody tr th {\n",
       "        vertical-align: top;\n",
       "    }\n",
       "\n",
       "    .dataframe thead th {\n",
       "        text-align: right;\n",
       "    }\n",
       "</style>\n",
       "<table border=\"1\" class=\"dataframe\">\n",
       "  <thead>\n",
       "    <tr style=\"text-align: right;\">\n",
       "      <th></th>\n",
       "      <th>id4</th>\n",
       "      <th>v2</th>\n",
       "    </tr>\n",
       "    <tr>\n",
       "      <th>id3</th>\n",
       "      <th></th>\n",
       "      <th></th>\n",
       "    </tr>\n",
       "  </thead>\n",
       "  <tbody>\n",
       "    <tr>\n",
       "      <th>id0000000112</th>\n",
       "      <td>63</td>\n",
       "      <td>9.0</td>\n",
       "    </tr>\n",
       "    <tr>\n",
       "      <th>id0000000192</th>\n",
       "      <td>142</td>\n",
       "      <td>7.0</td>\n",
       "    </tr>\n",
       "    <tr>\n",
       "      <th>id0000000198</th>\n",
       "      <td>89</td>\n",
       "      <td>14.0</td>\n",
       "    </tr>\n",
       "    <tr>\n",
       "      <th>id0000000213</th>\n",
       "      <td>51</td>\n",
       "      <td>14.0</td>\n",
       "    </tr>\n",
       "    <tr>\n",
       "      <th>id0000000250</th>\n",
       "      <td>99</td>\n",
       "      <td>6.0</td>\n",
       "    </tr>\n",
       "    <tr>\n",
       "      <th>...</th>\n",
       "      <td>...</td>\n",
       "      <td>...</td>\n",
       "    </tr>\n",
       "    <tr>\n",
       "      <th>id0000002235</th>\n",
       "      <td>69</td>\n",
       "      <td>11.0</td>\n",
       "    </tr>\n",
       "    <tr>\n",
       "      <th>id0000002668</th>\n",
       "      <td>67</td>\n",
       "      <td>7.0</td>\n",
       "    </tr>\n",
       "    <tr>\n",
       "      <th>id0000003285</th>\n",
       "      <td>76</td>\n",
       "      <td>14.0</td>\n",
       "    </tr>\n",
       "    <tr>\n",
       "      <th>id0000004410</th>\n",
       "      <td>76</td>\n",
       "      <td>14.0</td>\n",
       "    </tr>\n",
       "    <tr>\n",
       "      <th>id0000005937</th>\n",
       "      <td>100</td>\n",
       "      <td>8.0</td>\n",
       "    </tr>\n",
       "  </tbody>\n",
       "</table>\n",
       "<p>97595 rows × 2 columns</p>\n",
       "</div>"
      ],
      "text/plain": [
       "              id4    v2\n",
       "id3                    \n",
       "id0000000112   63   9.0\n",
       "id0000000192  142   7.0\n",
       "id0000000198   89  14.0\n",
       "id0000000213   51  14.0\n",
       "id0000000250   99   6.0\n",
       "...           ...   ...\n",
       "id0000002235   69  11.0\n",
       "id0000002668   67   7.0\n",
       "id0000003285   76  14.0\n",
       "id0000004410   76  14.0\n",
       "id0000005937  100   8.0\n",
       "\n",
       "[97595 rows x 2 columns]"
      ]
     },
     "execution_count": 21,
     "metadata": {},
     "output_type": "execute_result"
    }
   ],
   "source": [
    "t = ddf.groupby(\"id3\").agg({\"id4\": \"sum\", \"v2\": \"mean\"})\n",
    "t.loc[(t[\"id4\"] > 50) & (t[\"v2\"] > 5.0)].compute()"
   ]
  },
  {
   "cell_type": "code",
   "execution_count": null,
   "id": "862a65d4-afa4-4e6d-934f-c1e13708904b",
   "metadata": {},
   "outputs": [],
   "source": []
  }
 ],
 "metadata": {
  "kernelspec": {
   "display_name": "Python [conda env:mr-dask] *",
   "language": "python",
   "name": "conda-env-mr-dask-py"
  },
  "language_info": {
   "codemirror_mode": {
    "name": "ipython",
    "version": 3
   },
   "file_extension": ".py",
   "mimetype": "text/x-python",
   "name": "python",
   "nbconvert_exporter": "python",
   "pygments_lexer": "ipython3",
   "version": "3.9.9"
  }
 },
 "nbformat": 4,
 "nbformat_minor": 5
}
