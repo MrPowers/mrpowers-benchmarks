{
 "cells": [
  {
   "cell_type": "code",
   "execution_count": 1,
   "id": "f3ff0a1b-8c1c-4880-a9da-4386d16b983d",
   "metadata": {},
   "outputs": [],
   "source": [
    "import pandas as pd"
   ]
  },
  {
   "cell_type": "code",
   "execution_count": 2,
   "id": "fdda682e-2821-4b19-b881-63e5c822a40e",
   "metadata": {},
   "outputs": [
    {
     "name": "stdout",
     "output_type": "stream",
     "text": [
      "CPU times: user 8 µs, sys: 2 µs, total: 10 µs\n",
      "Wall time: 16.9 µs\n"
     ]
    },
    {
     "data": {
      "text/plain": [
       "2"
      ]
     },
     "execution_count": 2,
     "metadata": {},
     "output_type": "execute_result"
    }
   ],
   "source": [
    "%%time\n",
    "1 + 1"
   ]
  },
  {
   "cell_type": "code",
   "execution_count": 3,
   "id": "a004b4f7-09f0-4293-be7c-c47dd7fa48b4",
   "metadata": {},
   "outputs": [
    {
     "name": "stdout",
     "output_type": "stream",
     "text": [
      "CPU times: user 4min 42s, sys: 1min 7s, total: 5min 50s\n",
      "Wall time: 9min 3s\n"
     ]
    },
    {
     "data": {
      "text/html": [
       "<div>\n",
       "<style scoped>\n",
       "    .dataframe tbody tr th:only-of-type {\n",
       "        vertical-align: middle;\n",
       "    }\n",
       "\n",
       "    .dataframe tbody tr th {\n",
       "        vertical-align: top;\n",
       "    }\n",
       "\n",
       "    .dataframe thead th {\n",
       "        text-align: right;\n",
       "    }\n",
       "</style>\n",
       "<table border=\"1\" class=\"dataframe\">\n",
       "  <thead>\n",
       "    <tr style=\"text-align: right;\">\n",
       "      <th></th>\n",
       "      <th>v1</th>\n",
       "    </tr>\n",
       "    <tr>\n",
       "      <th>id1</th>\n",
       "      <th></th>\n",
       "    </tr>\n",
       "  </thead>\n",
       "  <tbody>\n",
       "    <tr>\n",
       "      <th>id001</th>\n",
       "      <td>1999081</td>\n",
       "    </tr>\n",
       "    <tr>\n",
       "      <th>id002</th>\n",
       "      <td>2002870</td>\n",
       "    </tr>\n",
       "    <tr>\n",
       "      <th>id003</th>\n",
       "      <td>1998389</td>\n",
       "    </tr>\n",
       "    <tr>\n",
       "      <th>id004</th>\n",
       "      <td>2001091</td>\n",
       "    </tr>\n",
       "    <tr>\n",
       "      <th>id005</th>\n",
       "      <td>1999770</td>\n",
       "    </tr>\n",
       "    <tr>\n",
       "      <th>...</th>\n",
       "      <td>...</td>\n",
       "    </tr>\n",
       "    <tr>\n",
       "      <th>id096</th>\n",
       "      <td>2001015</td>\n",
       "    </tr>\n",
       "    <tr>\n",
       "      <th>id097</th>\n",
       "      <td>1995014</td>\n",
       "    </tr>\n",
       "    <tr>\n",
       "      <th>id098</th>\n",
       "      <td>2000933</td>\n",
       "    </tr>\n",
       "    <tr>\n",
       "      <th>id099</th>\n",
       "      <td>2003447</td>\n",
       "    </tr>\n",
       "    <tr>\n",
       "      <th>id100</th>\n",
       "      <td>2001151</td>\n",
       "    </tr>\n",
       "  </tbody>\n",
       "</table>\n",
       "<p>100 rows × 1 columns</p>\n",
       "</div>"
      ],
      "text/plain": [
       "            v1\n",
       "id1           \n",
       "id001  1999081\n",
       "id002  2002870\n",
       "id003  1998389\n",
       "id004  2001091\n",
       "id005  1999770\n",
       "...        ...\n",
       "id096  2001015\n",
       "id097  1995014\n",
       "id098  2000933\n",
       "id099  2003447\n",
       "id100  2001151\n",
       "\n",
       "[100 rows x 1 columns]"
      ]
     },
     "execution_count": 3,
     "metadata": {},
     "output_type": "execute_result"
    }
   ],
   "source": [
    "%%time\n",
    "medium_ddf = pd.read_csv(\n",
    "    \"../tmp/N_1e8_K_1e2_single.csv\",\n",
    "    dtype={\n",
    "        \"id1\": \"string[pyarrow]\",\n",
    "        \"id2\": \"string[pyarrow]\",\n",
    "        \"id3\": \"string[pyarrow]\",\n",
    "        \"id4\": \"Int32\",\n",
    "        \"id5\": \"Int32\",\n",
    "        \"id6\": \"Int32\",\n",
    "        \"v1\": \"Int32\",\n",
    "        \"v2\": \"Int32\",\n",
    "        \"v3\": \"float64\",\n",
    "    },\n",
    ")\n",
    "medium_ddf.groupby(\"id1\", dropna=False, observed=True).agg({\"v1\": \"sum\"})"
   ]
  },
  {
   "cell_type": "code",
   "execution_count": null,
   "id": "ab656d8a-6ccc-49fe-a57e-81fe2840512b",
   "metadata": {},
   "outputs": [],
   "source": []
  }
 ],
 "metadata": {
  "kernelspec": {
   "display_name": "Python [conda env:mr-dask]",
   "language": "python",
   "name": "conda-env-mr-dask-py"
  },
  "language_info": {
   "codemirror_mode": {
    "name": "ipython",
    "version": 3
   },
   "file_extension": ".py",
   "mimetype": "text/x-python",
   "name": "python",
   "nbconvert_exporter": "python",
   "pygments_lexer": "ipython3",
   "version": "3.9.13"
  }
 },
 "nbformat": 4,
 "nbformat_minor": 5
}
