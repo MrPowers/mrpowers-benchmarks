{
 "cells": [
  {
   "cell_type": "code",
   "execution_count": 21,
   "id": "b2d0da4e-17ce-457f-bdc0-93242fb389d8",
   "metadata": {},
   "outputs": [],
   "source": [
    "import polars as pl"
   ]
  },
  {
   "cell_type": "code",
   "execution_count": 30,
   "id": "f9dd4826-fbf4-4d24-b02e-2038df1bd488",
   "metadata": {},
   "outputs": [],
   "source": [
    "df = pl.scan_parquet(\"../data/nyc-tlc/polars/yellow_tripdata_2009-*.parquet\")"
   ]
  },
  {
   "cell_type": "code",
   "execution_count": 31,
   "id": "e0efeb0b-d0ed-4171-801e-3ec871e2b262",
   "metadata": {},
   "outputs": [
    {
     "data": {
      "text/plain": [
       "{'vendor_name': polars.datatypes.Utf8,\n",
       " 'Trip_Pickup_DateTime': polars.datatypes.Utf8,\n",
       " 'Trip_Dropoff_DateTime': polars.datatypes.Utf8,\n",
       " 'Passenger_Count': polars.datatypes.Int64,\n",
       " 'Trip_Distance': polars.datatypes.Float64,\n",
       " 'Start_Lon': polars.datatypes.Float64,\n",
       " 'Start_Lat': polars.datatypes.Float64,\n",
       " 'Rate_Code': polars.datatypes.Utf8,\n",
       " 'store_and_forward': polars.datatypes.Utf8,\n",
       " 'End_Lon': polars.datatypes.Float64,\n",
       " 'End_Lat': polars.datatypes.Float64,\n",
       " 'Payment_Type': polars.datatypes.Utf8,\n",
       " 'Fare_Amt': polars.datatypes.Float64,\n",
       " 'surcharge': polars.datatypes.Float64,\n",
       " 'mta_tax': polars.datatypes.Utf8,\n",
       " 'Tip_Amt': polars.datatypes.Float64,\n",
       " 'Tolls_Amt': polars.datatypes.Float64,\n",
       " 'Total_Amt': polars.datatypes.Float64}"
      ]
     },
     "execution_count": 31,
     "metadata": {},
     "output_type": "execute_result"
    }
   ],
   "source": [
    "df.collect().schema"
   ]
  },
  {
   "cell_type": "markdown",
   "id": "a2064956-23e7-43da-af27-a7b18ea02815",
   "metadata": {},
   "source": [
    "## Standard operations"
   ]
  },
  {
   "cell_type": "markdown",
   "id": "0ba9ef1c-e07a-41d1-b287-d2df1b54ec7d",
   "metadata": {},
   "source": [
    "### count"
   ]
  },
  {
   "cell_type": "code",
   "execution_count": 32,
   "id": "d3241b95-ad30-4481-acd0-2352c1cd52fe",
   "metadata": {},
   "outputs": [
    {
     "name": "stdout",
     "output_type": "stream",
     "text": [
      "CPU times: user 5.09 s, sys: 3.09 s, total: 8.19 s\n",
      "Wall time: 5.21 s\n"
     ]
    },
    {
     "data": {
      "text/plain": [
       "27472535"
      ]
     },
     "execution_count": 32,
     "metadata": {},
     "output_type": "execute_result"
    }
   ],
   "source": [
    "%%time\n",
    "len(df.collect())"
   ]
  },
  {
   "cell_type": "markdown",
   "id": "99106755-67c5-42e3-944c-42e2fed704ce",
   "metadata": {},
   "source": [
    "### count length index (not applicable)"
   ]
  },
  {
   "cell_type": "markdown",
   "id": "78d564a4-df2d-4a9f-952f-91b8b311770e",
   "metadata": {},
   "source": [
    "### mean"
   ]
  },
  {
   "cell_type": "code",
   "execution_count": 46,
   "id": "b6574cb6-f879-430c-bf4f-71a45078b6e2",
   "metadata": {},
   "outputs": [
    {
     "name": "stdout",
     "output_type": "stream",
     "text": [
      "CPU times: user 231 ms, sys: 266 ms, total: 497 ms\n",
      "Wall time: 247 ms\n"
     ]
    },
    {
     "data": {
      "text/html": [
       "<div>\n",
       "<style scoped>\n",
       "    .dataframe tbody tr th:only-of-type {\n",
       "        vertical-align: middle;\n",
       "    }\n",
       "\n",
       "    .dataframe tbody tr th {\n",
       "        vertical-align: top;\n",
       "    }\n",
       "\n",
       "    .dataframe thead th {\n",
       "        text-align: right;\n",
       "    }\n",
       "</style>\n",
       "<table border=\"1 \"class=\"dataframe \">\n",
       "<thead>\n",
       "<tr>\n",
       "<th>\n",
       "Fare_Amt\n",
       "</th>\n",
       "</tr>\n",
       "<tr>\n",
       "<td>\n",
       "f64\n",
       "</td>\n",
       "</tr>\n",
       "</thead>\n",
       "<tbody>\n",
       "<tr>\n",
       "<td>\n",
       "9.572631\n",
       "</td>\n",
       "</tr>\n",
       "</tbody>\n",
       "</table>\n",
       "</div>"
      ],
      "text/plain": [
       "shape: (1, 1)\n",
       "┌──────────┐\n",
       "│ Fare_Amt │\n",
       "│ ---      │\n",
       "│ f64      │\n",
       "╞══════════╡\n",
       "│ 9.572631 │\n",
       "└──────────┘"
      ]
     },
     "execution_count": 46,
     "metadata": {},
     "output_type": "execute_result"
    }
   ],
   "source": [
    "%%time\n",
    "df.select(\"Fare_Amt\").mean().collect()"
   ]
  },
  {
   "cell_type": "markdown",
   "id": "5e380d5c-c470-405a-9d5e-5a1d40a1df28",
   "metadata": {},
   "source": [
    "### standard deviation"
   ]
  },
  {
   "cell_type": "code",
   "execution_count": 48,
   "id": "469e8b48-fdbe-45f7-85a9-e69f65b476f7",
   "metadata": {},
   "outputs": [
    {
     "name": "stdout",
     "output_type": "stream",
     "text": [
      "CPU times: user 234 ms, sys: 312 ms, total: 546 ms\n",
      "Wall time: 821 ms\n"
     ]
    },
    {
     "data": {
      "text/html": [
       "<div>\n",
       "<style scoped>\n",
       "    .dataframe tbody tr th:only-of-type {\n",
       "        vertical-align: middle;\n",
       "    }\n",
       "\n",
       "    .dataframe tbody tr th {\n",
       "        vertical-align: top;\n",
       "    }\n",
       "\n",
       "    .dataframe thead th {\n",
       "        text-align: right;\n",
       "    }\n",
       "</style>\n",
       "<table border=\"1 \"class=\"dataframe \">\n",
       "<thead>\n",
       "<tr>\n",
       "<th>\n",
       "Fare_Amt\n",
       "</th>\n",
       "</tr>\n",
       "<tr>\n",
       "<td>\n",
       "f64\n",
       "</td>\n",
       "</tr>\n",
       "</thead>\n",
       "<tbody>\n",
       "<tr>\n",
       "<td>\n",
       "7.229342\n",
       "</td>\n",
       "</tr>\n",
       "</tbody>\n",
       "</table>\n",
       "</div>"
      ],
      "text/plain": [
       "shape: (1, 1)\n",
       "┌──────────┐\n",
       "│ Fare_Amt │\n",
       "│ ---      │\n",
       "│ f64      │\n",
       "╞══════════╡\n",
       "│ 7.229342 │\n",
       "└──────────┘"
      ]
     },
     "execution_count": 48,
     "metadata": {},
     "output_type": "execute_result"
    }
   ],
   "source": [
    "%%time\n",
    "df.select(\"Fare_Amt\").std().collect()"
   ]
  },
  {
   "cell_type": "markdown",
   "id": "abbc066b-b239-4a4a-985f-693e78dc120e",
   "metadata": {},
   "source": [
    "### mean of sum"
   ]
  },
  {
   "cell_type": "code",
   "execution_count": 53,
   "id": "aae8fd50-effa-47e1-a08d-6a6b01d1f6a3",
   "metadata": {},
   "outputs": [
    {
     "ename": "TypeError",
     "evalue": "sum() takes 1 positional argument but 2 were given",
     "output_type": "error",
     "traceback": [
      "\u001b[0;31m---------------------------------------------------------------------------\u001b[0m",
      "\u001b[0;31mTypeError\u001b[0m                                 Traceback (most recent call last)",
      "File \u001b[0;32m<timed exec>:1\u001b[0m, in \u001b[0;36m<module>\u001b[0;34m\u001b[0m\n",
      "\u001b[0;31mTypeError\u001b[0m: sum() takes 1 positional argument but 2 were given"
     ]
    }
   ],
   "source": [
    "%%time\n",
    "res = pl.col(\"Fare_Amt\") + pl.col(\"Tip_Amt\")\n",
    "df.with_column(\"sum_amt\", res)"
   ]
  },
  {
   "cell_type": "code",
   "execution_count": null,
   "id": "f4b386af-9c76-4294-8de2-579be905bede",
   "metadata": {},
   "outputs": [],
   "source": []
  }
 ],
 "metadata": {
  "kernelspec": {
   "display_name": "Python [conda env:mr-polars] *",
   "language": "python",
   "name": "conda-env-mr-polars-py"
  },
  "language_info": {
   "codemirror_mode": {
    "name": "ipython",
    "version": 3
   },
   "file_extension": ".py",
   "mimetype": "text/x-python",
   "name": "python",
   "nbconvert_exporter": "python",
   "pygments_lexer": "ipython3",
   "version": "3.9.9"
  }
 },
 "nbformat": 4,
 "nbformat_minor": 5
}
