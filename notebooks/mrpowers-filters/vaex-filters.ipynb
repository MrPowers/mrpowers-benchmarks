{
 "cells": [
  {
   "cell_type": "code",
   "execution_count": 1,
   "id": "b07d297e-d3da-489d-966b-b4459ca743da",
   "metadata": {},
   "outputs": [],
   "source": [
    "import vaex"
   ]
  },
  {
   "cell_type": "code",
   "execution_count": 16,
   "id": "68b1475a-3f94-4299-9d5f-bca7092a4514",
   "metadata": {},
   "outputs": [
    {
     "ename": "FileNotFoundError",
     "evalue": "[Errno 2] Failed to open local file '../../data/mrpowers-h2o/groupby-1e7/csv/*.csv'. Detail: [errno 2] No such file or directory",
     "output_type": "error",
     "traceback": [
      "\u001b[0;31m---------------------------------------------------------------------------\u001b[0m",
      "\u001b[0;31mFileNotFoundError\u001b[0m                         Traceback (most recent call last)",
      "Input \u001b[0;32mIn [16]\u001b[0m, in \u001b[0;36m<cell line: 3>\u001b[0;34m()\u001b[0m\n\u001b[1;32m      1\u001b[0m \u001b[38;5;66;03m# df = vaex.from_csv(\"../../data/mrpowers-h2o/groupby-1e7/single-csv/mrpowers-groupby-1e7.csv\")\u001b[39;00m\n\u001b[1;32m      2\u001b[0m \u001b[38;5;66;03m# df = vaex.open(\"../../data/mrpowers-h2o/groupby-1e7/parquet/*.parquet\")\u001b[39;00m\n\u001b[0;32m----> 3\u001b[0m df \u001b[38;5;241m=\u001b[39m \u001b[43mvaex\u001b[49m\u001b[38;5;241;43m.\u001b[39;49m\u001b[43mfrom_csv\u001b[49m\u001b[43m(\u001b[49m\u001b[38;5;124;43m\"\u001b[39;49m\u001b[38;5;124;43m../../data/mrpowers-h2o/groupby-1e7/csv/*.csv\u001b[39;49m\u001b[38;5;124;43m\"\u001b[39;49m\u001b[43m)\u001b[49m\n",
      "File \u001b[0;32m~/opt/miniconda3/envs/mr-vaex/lib/python3.9/site-packages/vaex/__init__.py:559\u001b[0m, in \u001b[0;36mfrom_csv\u001b[0;34m(filename_or_buffer, copy_index, chunk_size, convert, fs_options, fs, progress, **kwargs)\u001b[0m\n\u001b[1;32m    535\u001b[0m \u001b[38;5;124;03m\"\"\"\u001b[39;00m\n\u001b[1;32m    536\u001b[0m \u001b[38;5;124;03mRead a CSV file as a DataFrame, and optionally convert to an hdf5 file.\u001b[39;00m\n\u001b[1;32m    537\u001b[0m \n\u001b[0;32m   (...)\u001b[0m\n\u001b[1;32m    556\u001b[0m \u001b[38;5;124;03m:returns: DataFrame\u001b[39;00m\n\u001b[1;32m    557\u001b[0m \u001b[38;5;124;03m\"\"\"\u001b[39;00m\n\u001b[1;32m    558\u001b[0m \u001b[38;5;28;01mif\u001b[39;00m \u001b[38;5;129;01mnot\u001b[39;00m convert:\n\u001b[0;32m--> 559\u001b[0m     \u001b[38;5;28;01mreturn\u001b[39;00m \u001b[43m_from_csv_read\u001b[49m\u001b[43m(\u001b[49m\u001b[43mfilename_or_buffer\u001b[49m\u001b[38;5;241;43m=\u001b[39;49m\u001b[43mfilename_or_buffer\u001b[49m\u001b[43m,\u001b[49m\u001b[43m \u001b[49m\u001b[43mcopy_index\u001b[49m\u001b[38;5;241;43m=\u001b[39;49m\u001b[43mcopy_index\u001b[49m\u001b[43m,\u001b[49m\n\u001b[1;32m    560\u001b[0m \u001b[43m                          \u001b[49m\u001b[43mfs_options\u001b[49m\u001b[38;5;241;43m=\u001b[39;49m\u001b[43mfs_options\u001b[49m\u001b[43m,\u001b[49m\u001b[43m \u001b[49m\u001b[43mfs\u001b[49m\u001b[38;5;241;43m=\u001b[39;49m\u001b[43mfs\u001b[49m\u001b[43m,\u001b[49m\u001b[43m \u001b[49m\u001b[43mchunk_size\u001b[49m\u001b[38;5;241;43m=\u001b[39;49m\u001b[43mchunk_size\u001b[49m\u001b[43m,\u001b[49m\u001b[43m \u001b[49m\u001b[38;5;241;43m*\u001b[39;49m\u001b[38;5;241;43m*\u001b[39;49m\u001b[43mkwargs\u001b[49m\u001b[43m)\u001b[49m\n\u001b[1;32m    561\u001b[0m \u001b[38;5;28;01melse\u001b[39;00m:\n\u001b[1;32m    562\u001b[0m     \u001b[38;5;28;01mif\u001b[39;00m chunk_size \u001b[38;5;129;01mis\u001b[39;00m \u001b[38;5;28;01mNone\u001b[39;00m:\n\u001b[1;32m    563\u001b[0m         \u001b[38;5;66;03m# make it memory efficient by default\u001b[39;00m\n",
      "File \u001b[0;32m~/opt/miniconda3/envs/mr-vaex/lib/python3.9/site-packages/vaex/__init__.py:581\u001b[0m, in \u001b[0;36m_from_csv_read\u001b[0;34m(filename_or_buffer, copy_index, chunk_size, fs_options, fs, **kwargs)\u001b[0m\n\u001b[1;32m    579\u001b[0m \u001b[38;5;28;01mimport\u001b[39;00m \u001b[38;5;21;01mpandas\u001b[39;00m \u001b[38;5;28;01mas\u001b[39;00m \u001b[38;5;21;01mpd\u001b[39;00m\n\u001b[1;32m    580\u001b[0m \u001b[38;5;28;01mif\u001b[39;00m \u001b[38;5;129;01mnot\u001b[39;00m chunk_size:\n\u001b[0;32m--> 581\u001b[0m     \u001b[38;5;28;01mwith\u001b[39;00m \u001b[43mvaex\u001b[49m\u001b[38;5;241;43m.\u001b[39;49m\u001b[43mfile\u001b[49m\u001b[38;5;241;43m.\u001b[39;49m\u001b[43mopen\u001b[49m\u001b[43m(\u001b[49m\u001b[43mfilename_or_buffer\u001b[49m\u001b[43m,\u001b[49m\u001b[43m \u001b[49m\u001b[43mfs_options\u001b[49m\u001b[38;5;241;43m=\u001b[39;49m\u001b[43mfs_options\u001b[49m\u001b[43m,\u001b[49m\u001b[43m \u001b[49m\u001b[43mfs\u001b[49m\u001b[38;5;241;43m=\u001b[39;49m\u001b[43mfs\u001b[49m\u001b[43m,\u001b[49m\u001b[43m \u001b[49m\u001b[43mfor_arrow\u001b[49m\u001b[38;5;241;43m=\u001b[39;49m\u001b[38;5;28;43;01mTrue\u001b[39;49;00m\u001b[43m)\u001b[49m \u001b[38;5;28;01mas\u001b[39;00m f:\n\u001b[1;32m    582\u001b[0m         full_df \u001b[38;5;241m=\u001b[39m pd\u001b[38;5;241m.\u001b[39mread_csv(f, \u001b[38;5;241m*\u001b[39m\u001b[38;5;241m*\u001b[39mkwargs)\n\u001b[1;32m    583\u001b[0m         \u001b[38;5;28;01mreturn\u001b[39;00m from_pandas(full_df, copy_index\u001b[38;5;241m=\u001b[39mcopy_index)\n",
      "File \u001b[0;32m~/opt/miniconda3/envs/mr-vaex/lib/python3.9/site-packages/vaex/file/__init__.py:306\u001b[0m, in \u001b[0;36mopen\u001b[0;34m(path, mode, fs_options, fs, for_arrow, mmap, encoding)\u001b[0m\n\u001b[1;32m    304\u001b[0m         \u001b[38;5;28;01mreturn\u001b[39;00m pa\u001b[38;5;241m.\u001b[39mmemory_map(path, mode)\n\u001b[1;32m    305\u001b[0m     \u001b[38;5;28;01melse\u001b[39;00m:\n\u001b[0;32m--> 306\u001b[0m         \u001b[38;5;28;01mreturn\u001b[39;00m \u001b[43mpa\u001b[49m\u001b[38;5;241;43m.\u001b[39;49m\u001b[43mOSFile\u001b[49m\u001b[43m(\u001b[49m\u001b[43mpath\u001b[49m\u001b[43m,\u001b[49m\u001b[43m \u001b[49m\u001b[43mmode\u001b[49m\u001b[43m)\u001b[49m\n\u001b[1;32m    307\u001b[0m \u001b[38;5;28;01melse\u001b[39;00m:\n\u001b[1;32m    308\u001b[0m     \u001b[38;5;28;01mif\u001b[39;00m \u001b[38;5;124m'\u001b[39m\u001b[38;5;124mb\u001b[39m\u001b[38;5;124m'\u001b[39m \u001b[38;5;129;01mnot\u001b[39;00m \u001b[38;5;129;01min\u001b[39;00m mode:\n",
      "File \u001b[0;32m~/opt/miniconda3/envs/mr-vaex/lib/python3.9/site-packages/pyarrow/io.pxi:899\u001b[0m, in \u001b[0;36mpyarrow.lib.OSFile.__cinit__\u001b[0;34m()\u001b[0m\n",
      "File \u001b[0;32m~/opt/miniconda3/envs/mr-vaex/lib/python3.9/site-packages/pyarrow/io.pxi:909\u001b[0m, in \u001b[0;36mpyarrow.lib.OSFile._open_readable\u001b[0;34m()\u001b[0m\n",
      "File \u001b[0;32m~/opt/miniconda3/envs/mr-vaex/lib/python3.9/site-packages/pyarrow/error.pxi:143\u001b[0m, in \u001b[0;36mpyarrow.lib.pyarrow_internal_check_status\u001b[0;34m()\u001b[0m\n",
      "File \u001b[0;32m~/opt/miniconda3/envs/mr-vaex/lib/python3.9/site-packages/pyarrow/error.pxi:112\u001b[0m, in \u001b[0;36mpyarrow.lib.check_status\u001b[0;34m()\u001b[0m\n",
      "\u001b[0;31mFileNotFoundError\u001b[0m: [Errno 2] Failed to open local file '../../data/mrpowers-h2o/groupby-1e7/csv/*.csv'. Detail: [errno 2] No such file or directory"
     ]
    }
   ],
   "source": [
    "# df = vaex.from_csv(\"../../data/mrpowers-h2o/groupby-1e7/single-csv/mrpowers-groupby-1e7.csv\")\n",
    "# df = vaex.open(\"../../data/mrpowers-h2o/groupby-1e7/parquet/*.parquet\")\n",
    "df = vaex.from_csv(\"../../data/mrpowers-h2o/groupby-1e7/csv/*.csv\")"
   ]
  },
  {
   "cell_type": "markdown",
   "id": "fe7b2cd8-9fc3-48ba-b5ef-c8ff2b65f2ef",
   "metadata": {},
   "source": [
    "## q1: number of rows with id4 == 48"
   ]
  },
  {
   "cell_type": "code",
   "execution_count": 14,
   "id": "d377306b-43e1-437f-8781-413e2f50c58c",
   "metadata": {},
   "outputs": [
    {
     "data": {
      "text/plain": [
       "100685"
      ]
     },
     "execution_count": 14,
     "metadata": {},
     "output_type": "execute_result"
    }
   ],
   "source": [
    "len(df[df.id4 == 48])"
   ]
  },
  {
   "cell_type": "markdown",
   "id": "d8633f26-bac1-4c0a-a750-bf814158f659",
   "metadata": {},
   "source": [
    "## q2: number of rows with id4 < 30"
   ]
  },
  {
   "cell_type": "code",
   "execution_count": 15,
   "id": "378eb987-35ac-4afb-8629-b40d0ea8ccb3",
   "metadata": {},
   "outputs": [
    {
     "data": {
      "text/plain": [
       "2898584"
      ]
     },
     "execution_count": 15,
     "metadata": {},
     "output_type": "execute_result"
    }
   ],
   "source": [
    "len(df[df.id4 < 30])"
   ]
  },
  {
   "cell_type": "markdown",
   "id": "32180f90-0c48-4244-b700-1bf79388f558",
   "metadata": {},
   "source": [
    "## q3: number of rows with v3 > 71.1"
   ]
  },
  {
   "cell_type": "code",
   "execution_count": 7,
   "id": "45f03b13-3fc4-49a0-98ef-3a7b26600c92",
   "metadata": {},
   "outputs": [
    {
     "data": {
      "text/plain": [
       "7081790"
      ]
     },
     "execution_count": 7,
     "metadata": {},
     "output_type": "execute_result"
    }
   ],
   "source": [
    "len(df[df.v3 < 71.1])"
   ]
  },
  {
   "cell_type": "markdown",
   "id": "267036fc-70da-4672-af56-0c6a42713fc8",
   "metadata": {},
   "source": [
    "## q4: number of rows with id5 == 48 && v3 < 25.2"
   ]
  },
  {
   "cell_type": "code",
   "execution_count": 9,
   "id": "e564d99e-089f-45ee-a702-e471cbc46a17",
   "metadata": {},
   "outputs": [
    {
     "data": {
      "text/plain": [
       "1149560"
      ]
     },
     "execution_count": 9,
     "metadata": {},
     "output_type": "execute_result"
    }
   ],
   "source": [
    "len(df[(df.id5 < 48) & (df.v3 < 25.2)])"
   ]
  },
  {
   "cell_type": "markdown",
   "id": "0e303058-9c12-439d-bcf6-a045964938b8",
   "metadata": {},
   "source": [
    "## q5: number of rows with id2 == id001 && id5 == 60"
   ]
  },
  {
   "cell_type": "code",
   "execution_count": 10,
   "id": "9c07d34f-c243-47c0-b603-9f33ab072afc",
   "metadata": {},
   "outputs": [
    {
     "data": {
      "text/plain": [
       "1012"
      ]
     },
     "execution_count": 10,
     "metadata": {},
     "output_type": "execute_result"
    }
   ],
   "source": [
    "len(df[(df.id2 == \"id001\") & (df.id5 == 48)])"
   ]
  },
  {
   "cell_type": "code",
   "execution_count": null,
   "id": "06098be3-7c6e-4a96-8b99-edcd87bc82f6",
   "metadata": {},
   "outputs": [],
   "source": []
  }
 ],
 "metadata": {
  "kernelspec": {
   "display_name": "Python [conda env:mr-vaex]",
   "language": "python",
   "name": "conda-env-mr-vaex-py"
  },
  "language_info": {
   "codemirror_mode": {
    "name": "ipython",
    "version": 3
   },
   "file_extension": ".py",
   "mimetype": "text/x-python",
   "name": "python",
   "nbconvert_exporter": "python",
   "pygments_lexer": "ipython3",
   "version": "3.9.12"
  }
 },
 "nbformat": 4,
 "nbformat_minor": 5
}
