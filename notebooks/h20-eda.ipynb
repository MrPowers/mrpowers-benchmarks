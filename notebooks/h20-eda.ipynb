{
 "cells": [
  {
   "cell_type": "code",
   "execution_count": 1,
   "id": "70f3cf24-22d3-48bb-af97-d303b2473f19",
   "metadata": {},
   "outputs": [],
   "source": [
    "import dask.dataframe as dd\n",
    "import pandas as pd"
   ]
  },
  {
   "cell_type": "markdown",
   "id": "3f0dd60c-faae-4c57-85b3-0cd4c17036ab",
   "metadata": {},
   "source": [
    "## h2o data with h2o R Script"
   ]
  },
  {
   "cell_type": "code",
   "execution_count": 2,
   "id": "35608656-7702-4f95-bb7b-669134b8ecd7",
   "metadata": {},
   "outputs": [],
   "source": [
    "group_by_1e7_csv = \"../data/h2o/groupby-datagen_1e7_1e2_0_0/csv/G1_1e7_1e2_0_1.csv\""
   ]
  },
  {
   "cell_type": "code",
   "execution_count": 3,
   "id": "63c00efb-d859-4a67-a0bf-10206b62735c",
   "metadata": {},
   "outputs": [],
   "source": [
    "x = dd.read_csv(\n",
    "    group_by_1e7_csv,\n",
    "    dtype={\n",
    "        \"id1\": \"category\",\n",
    "        \"id2\": \"category\",\n",
    "        \"id3\": \"category\",\n",
    "        \"id4\": \"Int32\",\n",
    "        \"id5\": \"Int32\",\n",
    "        \"id6\": \"Int32\",\n",
    "        \"v1\": \"Int32\",\n",
    "        \"v2\": \"Int32\",\n",
    "        \"v3\": \"float64\",\n",
    "    },\n",
    ")"
   ]
  },
  {
   "cell_type": "code",
   "execution_count": 4,
   "id": "bf52c7a8-b5cd-4c8d-9fec-4a432a2f1c39",
   "metadata": {},
   "outputs": [
    {
     "data": {
      "text/plain": [
       "10000000"
      ]
     },
     "execution_count": 4,
     "metadata": {},
     "output_type": "execute_result"
    }
   ],
   "source": [
    "len(x)"
   ]
  },
  {
   "cell_type": "code",
   "execution_count": 12,
   "id": "672b078d-f82a-4467-8cf2-627aabcc1f91",
   "metadata": {},
   "outputs": [
    {
     "data": {
      "text/html": [
       "<div>\n",
       "<style scoped>\n",
       "    .dataframe tbody tr th:only-of-type {\n",
       "        vertical-align: middle;\n",
       "    }\n",
       "\n",
       "    .dataframe tbody tr th {\n",
       "        vertical-align: top;\n",
       "    }\n",
       "\n",
       "    .dataframe thead th {\n",
       "        text-align: right;\n",
       "    }\n",
       "</style>\n",
       "<table border=\"1\" class=\"dataframe\">\n",
       "  <thead>\n",
       "    <tr style=\"text-align: right;\">\n",
       "      <th></th>\n",
       "      <th>id1</th>\n",
       "      <th>id2</th>\n",
       "      <th>id3</th>\n",
       "    </tr>\n",
       "  </thead>\n",
       "  <tbody>\n",
       "    <tr>\n",
       "      <th>unique</th>\n",
       "      <td>100</td>\n",
       "      <td>100</td>\n",
       "      <td>100000</td>\n",
       "    </tr>\n",
       "    <tr>\n",
       "      <th>count</th>\n",
       "      <td>10000000</td>\n",
       "      <td>10000000</td>\n",
       "      <td>10000000</td>\n",
       "    </tr>\n",
       "    <tr>\n",
       "      <th>top</th>\n",
       "      <td>id036</td>\n",
       "      <td>id059</td>\n",
       "      <td>id0000042176</td>\n",
       "    </tr>\n",
       "    <tr>\n",
       "      <th>freq</th>\n",
       "      <td>100664</td>\n",
       "      <td>100884</td>\n",
       "      <td>145</td>\n",
       "    </tr>\n",
       "  </tbody>\n",
       "</table>\n",
       "</div>"
      ],
      "text/plain": [
       "             id1       id2           id3\n",
       "unique       100       100        100000\n",
       "count   10000000  10000000      10000000\n",
       "top        id036     id059  id0000042176\n",
       "freq      100664    100884           145"
      ]
     },
     "execution_count": 12,
     "metadata": {},
     "output_type": "execute_result"
    }
   ],
   "source": [
    "x[[\"id1\", \"id2\", \"id3\"]].describe().compute()"
   ]
  },
  {
   "cell_type": "code",
   "execution_count": null,
   "id": "525a7d60-a901-4a18-9193-d005dcce8cae",
   "metadata": {},
   "outputs": [],
   "source": [
    "x.describe()"
   ]
  },
  {
   "cell_type": "markdown",
   "id": "fc0ac391-f727-4ec8-97cb-936eb277f436",
   "metadata": {},
   "source": [
    "## h2o data with MrPowers Python Script"
   ]
  },
  {
   "cell_type": "code",
   "execution_count": 6,
   "id": "72a22599-6402-4ee5-941d-d8394c088cc2",
   "metadata": {},
   "outputs": [],
   "source": [
    "ddf = dd.read_parquet(\"../data/mrpowers-h2o/groupby-1e7/parquet\", engine=\"pyarrow\")"
   ]
  },
  {
   "cell_type": "code",
   "execution_count": 7,
   "id": "29d9f153-8e20-48d7-9d68-bb39896e6fdd",
   "metadata": {},
   "outputs": [
    {
     "data": {
      "text/plain": [
       "10000000"
      ]
     },
     "execution_count": 7,
     "metadata": {},
     "output_type": "execute_result"
    }
   ],
   "source": [
    "len(ddf)"
   ]
  },
  {
   "cell_type": "code",
   "execution_count": 11,
   "id": "2484ab50-c8ec-4d19-a83e-e9c68dbf3f8f",
   "metadata": {},
   "outputs": [
    {
     "data": {
      "text/html": [
       "<div>\n",
       "<style scoped>\n",
       "    .dataframe tbody tr th:only-of-type {\n",
       "        vertical-align: middle;\n",
       "    }\n",
       "\n",
       "    .dataframe tbody tr th {\n",
       "        vertical-align: top;\n",
       "    }\n",
       "\n",
       "    .dataframe thead th {\n",
       "        text-align: right;\n",
       "    }\n",
       "</style>\n",
       "<table border=\"1\" class=\"dataframe\">\n",
       "  <thead>\n",
       "    <tr style=\"text-align: right;\">\n",
       "      <th></th>\n",
       "      <th>id1</th>\n",
       "      <th>id2</th>\n",
       "      <th>id3</th>\n",
       "    </tr>\n",
       "  </thead>\n",
       "  <tbody>\n",
       "    <tr>\n",
       "      <th>unique</th>\n",
       "      <td>100</td>\n",
       "      <td>100</td>\n",
       "      <td>99002</td>\n",
       "    </tr>\n",
       "    <tr>\n",
       "      <th>count</th>\n",
       "      <td>10000000</td>\n",
       "      <td>10000000</td>\n",
       "      <td>10000000</td>\n",
       "    </tr>\n",
       "    <tr>\n",
       "      <th>top</th>\n",
       "      <td>id001</td>\n",
       "      <td>id029</td>\n",
       "      <td>id0000100000</td>\n",
       "    </tr>\n",
       "    <tr>\n",
       "      <th>freq</th>\n",
       "      <td>100000</td>\n",
       "      <td>100100</td>\n",
       "      <td>1164</td>\n",
       "    </tr>\n",
       "  </tbody>\n",
       "</table>\n",
       "</div>"
      ],
      "text/plain": [
       "             id1       id2           id3\n",
       "unique       100       100         99002\n",
       "count   10000000  10000000      10000000\n",
       "top        id001     id029  id0000100000\n",
       "freq      100000    100100          1164"
      ]
     },
     "execution_count": 11,
     "metadata": {},
     "output_type": "execute_result"
    }
   ],
   "source": [
    "ddf[[\"id1\", \"id2\", \"id3\"]].describe().compute()"
   ]
  },
  {
   "cell_type": "code",
   "execution_count": null,
   "id": "b670a978-92b2-4a6c-9dc3-ac86e4901661",
   "metadata": {},
   "outputs": [],
   "source": []
  }
 ],
 "metadata": {
  "kernelspec": {
   "display_name": "Python [conda env:standard-coiled] *",
   "language": "python",
   "name": "conda-env-standard-coiled-py"
  },
  "language_info": {
   "codemirror_mode": {
    "name": "ipython",
    "version": 3
   },
   "file_extension": ".py",
   "mimetype": "text/x-python",
   "name": "python",
   "nbconvert_exporter": "python",
   "pygments_lexer": "ipython3",
   "version": "3.9.10"
  }
 },
 "nbformat": 4,
 "nbformat_minor": 5
}
