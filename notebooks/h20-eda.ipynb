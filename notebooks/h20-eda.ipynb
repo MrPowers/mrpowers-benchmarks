{
 "cells": [
  {
   "cell_type": "code",
   "execution_count": 1,
   "id": "70f3cf24-22d3-48bb-af97-d303b2473f19",
   "metadata": {},
   "outputs": [],
   "source": [
    "import dask.dataframe as dd\n",
    "import pandas as pd"
   ]
  },
  {
   "cell_type": "markdown",
   "id": "3f0dd60c-faae-4c57-85b3-0cd4c17036ab",
   "metadata": {},
   "source": [
    "## h2o data with h2o R Script"
   ]
  },
  {
   "cell_type": "code",
   "execution_count": 4,
   "id": "35608656-7702-4f95-bb7b-669134b8ecd7",
   "metadata": {},
   "outputs": [],
   "source": [
    "group_by_1e7_csv = \"../data/h2o/groupby-datagen_1e7_1e2_0_0/csv/G1_1e7_1e2_0_1.csv\""
   ]
  },
  {
   "cell_type": "code",
   "execution_count": 5,
   "id": "63c00efb-d859-4a67-a0bf-10206b62735c",
   "metadata": {},
   "outputs": [],
   "source": [
    "x = dd.read_csv(\n",
    "    group_by_1e7_csv,\n",
    "    dtype={\n",
    "        \"id1\": \"category\",\n",
    "        \"id2\": \"category\",\n",
    "        \"id3\": \"category\",\n",
    "        \"id4\": \"Int32\",\n",
    "        \"id5\": \"Int32\",\n",
    "        \"id6\": \"Int32\",\n",
    "        \"v1\": \"Int32\",\n",
    "        \"v2\": \"Int32\",\n",
    "        \"v3\": \"float64\",\n",
    "    },\n",
    ")"
   ]
  },
  {
   "cell_type": "code",
   "execution_count": null,
   "id": "525a7d60-a901-4a18-9193-d005dcce8cae",
   "metadata": {},
   "outputs": [],
   "source": [
    "x.describe()"
   ]
  },
  {
   "cell_type": "markdown",
   "id": "fc0ac391-f727-4ec8-97cb-936eb277f436",
   "metadata": {},
   "source": [
    "## h2o data with MrPowers Python Script"
   ]
  },
  {
   "cell_type": "code",
   "execution_count": null,
   "id": "72a22599-6402-4ee5-941d-d8394c088cc2",
   "metadata": {},
   "outputs": [],
   "source": [
    "ddf = dd.read_parquet(\"./data/mrpowers-h2o/groupby-1e7/parquet\", engine=\"pyarrow\")"
   ]
  },
  {
   "cell_type": "code",
   "execution_count": null,
   "id": "2484ab50-c8ec-4d19-a83e-e9c68dbf3f8f",
   "metadata": {},
   "outputs": [],
   "source": [
    "ddf.describe()"
   ]
  }
 ],
 "metadata": {
  "kernelspec": {
   "display_name": "Python [conda env:standard-coiled] *",
   "language": "python",
   "name": "conda-env-standard-coiled-py"
  },
  "language_info": {
   "codemirror_mode": {
    "name": "ipython",
    "version": 3
   },
   "file_extension": ".py",
   "mimetype": "text/x-python",
   "name": "python",
   "nbconvert_exporter": "python",
   "pygments_lexer": "ipython3",
   "version": "3.9.10"
  }
 },
 "nbformat": 4,
 "nbformat_minor": 5
}
