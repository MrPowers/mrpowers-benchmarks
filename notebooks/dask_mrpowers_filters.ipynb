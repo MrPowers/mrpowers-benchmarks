{
 "cells": [
  {
   "cell_type": "code",
   "execution_count": 1,
   "id": "cb9c455b-4ea1-4503-b11c-0039a62aeee0",
   "metadata": {},
   "outputs": [],
   "source": [
    "import dask.dataframe as dd"
   ]
  },
  {
   "cell_type": "code",
   "execution_count": 2,
   "id": "d2b8aea5-af72-4a6c-b552-a11a12f6be3a",
   "metadata": {},
   "outputs": [],
   "source": [
    "ddf = dd.read_parquet(\"../data/mrpowers-h2o/groupby-1e7/parquet\")"
   ]
  },
  {
   "cell_type": "code",
   "execution_count": 3,
   "id": "984ea048-fffc-4f79-ad4d-4b6724507abb",
   "metadata": {},
   "outputs": [
    {
     "data": {
      "text/plain": [
       "10000000"
      ]
     },
     "execution_count": 3,
     "metadata": {},
     "output_type": "execute_result"
    }
   ],
   "source": [
    "len(ddf)"
   ]
  },
  {
   "cell_type": "code",
   "execution_count": 4,
   "id": "e8b22a45-1be1-4941-9983-97494f2140cb",
   "metadata": {},
   "outputs": [
    {
     "data": {
      "text/html": [
       "<div>\n",
       "<style scoped>\n",
       "    .dataframe tbody tr th:only-of-type {\n",
       "        vertical-align: middle;\n",
       "    }\n",
       "\n",
       "    .dataframe tbody tr th {\n",
       "        vertical-align: top;\n",
       "    }\n",
       "\n",
       "    .dataframe thead th {\n",
       "        text-align: right;\n",
       "    }\n",
       "</style>\n",
       "<table border=\"1\" class=\"dataframe\">\n",
       "  <thead>\n",
       "    <tr style=\"text-align: right;\">\n",
       "      <th></th>\n",
       "      <th>id1</th>\n",
       "      <th>id2</th>\n",
       "      <th>id3</th>\n",
       "      <th>id4</th>\n",
       "      <th>id5</th>\n",
       "      <th>id6</th>\n",
       "      <th>v1</th>\n",
       "      <th>v2</th>\n",
       "      <th>v3</th>\n",
       "    </tr>\n",
       "  </thead>\n",
       "  <tbody>\n",
       "    <tr>\n",
       "      <th>0</th>\n",
       "      <td>id001</td>\n",
       "      <td>id001</td>\n",
       "      <td>id0000010277</td>\n",
       "      <td>34</td>\n",
       "      <td>48</td>\n",
       "      <td>4336</td>\n",
       "      <td>4</td>\n",
       "      <td>8</td>\n",
       "      <td>51.935818</td>\n",
       "    </tr>\n",
       "    <tr>\n",
       "      <th>1</th>\n",
       "      <td>id001</td>\n",
       "      <td>id001</td>\n",
       "      <td>id0000010179</td>\n",
       "      <td>68</td>\n",
       "      <td>88</td>\n",
       "      <td>6075</td>\n",
       "      <td>1</td>\n",
       "      <td>4</td>\n",
       "      <td>61.951861</td>\n",
       "    </tr>\n",
       "    <tr>\n",
       "      <th>2</th>\n",
       "      <td>id001</td>\n",
       "      <td>id001</td>\n",
       "      <td>id0000077289</td>\n",
       "      <td>14</td>\n",
       "      <td>22</td>\n",
       "      <td>4124</td>\n",
       "      <td>1</td>\n",
       "      <td>3</td>\n",
       "      <td>57.146678</td>\n",
       "    </tr>\n",
       "    <tr>\n",
       "      <th>3</th>\n",
       "      <td>id001</td>\n",
       "      <td>id001</td>\n",
       "      <td>id0000018937</td>\n",
       "      <td>63</td>\n",
       "      <td>60</td>\n",
       "      <td>1475</td>\n",
       "      <td>4</td>\n",
       "      <td>7</td>\n",
       "      <td>26.972782</td>\n",
       "    </tr>\n",
       "    <tr>\n",
       "      <th>4</th>\n",
       "      <td>id001</td>\n",
       "      <td>id001</td>\n",
       "      <td>id0000015670</td>\n",
       "      <td>26</td>\n",
       "      <td>95</td>\n",
       "      <td>4599</td>\n",
       "      <td>3</td>\n",
       "      <td>3</td>\n",
       "      <td>11.137509</td>\n",
       "    </tr>\n",
       "  </tbody>\n",
       "</table>\n",
       "</div>"
      ],
      "text/plain": [
       "     id1    id2           id3  id4  id5   id6  v1  v2         v3\n",
       "0  id001  id001  id0000010277   34   48  4336   4   8  51.935818\n",
       "1  id001  id001  id0000010179   68   88  6075   1   4  61.951861\n",
       "2  id001  id001  id0000077289   14   22  4124   1   3  57.146678\n",
       "3  id001  id001  id0000018937   63   60  1475   4   7  26.972782\n",
       "4  id001  id001  id0000015670   26   95  4599   3   3  11.137509"
      ]
     },
     "execution_count": 4,
     "metadata": {},
     "output_type": "execute_result"
    }
   ],
   "source": [
    "ddf.head()"
   ]
  },
  {
   "cell_type": "markdown",
   "id": "110e2a6f-a909-4812-9509-d2f45ba015d6",
   "metadata": {},
   "source": [
    "## q1: number of rows with id4 == 48"
   ]
  },
  {
   "cell_type": "code",
   "execution_count": 5,
   "id": "7a591bf3-bea3-47e3-8c47-cc645fda2a07",
   "metadata": {},
   "outputs": [
    {
     "data": {
      "text/plain": [
       "100685"
      ]
     },
     "execution_count": 5,
     "metadata": {},
     "output_type": "execute_result"
    }
   ],
   "source": [
    "len(ddf.loc[ddf[\"id4\"] == 48])"
   ]
  },
  {
   "cell_type": "markdown",
   "id": "ed74431a-a32f-4069-8cab-841750ef10f7",
   "metadata": {},
   "source": [
    "## q2: number of rows with id4 < 30"
   ]
  },
  {
   "cell_type": "code",
   "execution_count": 6,
   "id": "13585329-06a4-4bc1-a2d3-f695b23d5666",
   "metadata": {},
   "outputs": [
    {
     "data": {
      "text/plain": [
       "2898584"
      ]
     },
     "execution_count": 6,
     "metadata": {},
     "output_type": "execute_result"
    }
   ],
   "source": [
    "len(ddf.loc[ddf[\"id4\"] < 30])"
   ]
  },
  {
   "cell_type": "markdown",
   "id": "88cb82e7-e06c-4cb7-8c57-4f1c650d1216",
   "metadata": {},
   "source": [
    "## q3: number of rows with v3 > 71.1"
   ]
  },
  {
   "cell_type": "code",
   "execution_count": 7,
   "id": "64f310b3-f310-4d4d-bd77-1950afcf275b",
   "metadata": {},
   "outputs": [
    {
     "data": {
      "text/plain": [
       "7081790"
      ]
     },
     "execution_count": 7,
     "metadata": {},
     "output_type": "execute_result"
    }
   ],
   "source": [
    "len(ddf.loc[ddf[\"v3\"] < 71.1])"
   ]
  },
  {
   "cell_type": "markdown",
   "id": "ca96f7a6-bd71-4ed9-87cc-00f790c99a3d",
   "metadata": {},
   "source": [
    "## q4: number of rows with id5 == 48 && v3 < 25.2"
   ]
  },
  {
   "cell_type": "code",
   "execution_count": 11,
   "id": "2598d53a-45b5-43d3-baa8-87a62c395aa4",
   "metadata": {},
   "outputs": [
    {
     "data": {
      "text/plain": [
       "1149560"
      ]
     },
     "execution_count": 11,
     "metadata": {},
     "output_type": "execute_result"
    }
   ],
   "source": [
    "len(ddf.loc[(ddf[\"id5\"] < 48) & (ddf[\"v3\"] < 25.2)])"
   ]
  },
  {
   "cell_type": "markdown",
   "id": "ea372b34-7396-44f7-b09a-af0882d981c2",
   "metadata": {},
   "source": [
    "## q5: number of rows with id2 == id001 && id5 == 60"
   ]
  },
  {
   "cell_type": "code",
   "execution_count": 15,
   "id": "c2dd24e8-5c3f-4278-9f82-7c94734cfb18",
   "metadata": {},
   "outputs": [
    {
     "data": {
      "text/plain": [
       "1012"
      ]
     },
     "execution_count": 15,
     "metadata": {},
     "output_type": "execute_result"
    }
   ],
   "source": [
    "len(ddf.loc[(ddf[\"id2\"] == \"id001\") & (ddf[\"id5\"] == 48)])"
   ]
  },
  {
   "cell_type": "code",
   "execution_count": null,
   "id": "7a36c5ec-038f-4169-b913-0e42003b505d",
   "metadata": {},
   "outputs": [],
   "source": []
  }
 ],
 "metadata": {
  "kernelspec": {
   "display_name": "Python [conda env:mr-dask] *",
   "language": "python",
   "name": "conda-env-mr-dask-py"
  },
  "language_info": {
   "codemirror_mode": {
    "name": "ipython",
    "version": 3
   },
   "file_extension": ".py",
   "mimetype": "text/x-python",
   "name": "python",
   "nbconvert_exporter": "python",
   "pygments_lexer": "ipython3",
   "version": "3.9.9"
  }
 },
 "nbformat": 4,
 "nbformat_minor": 5
}
